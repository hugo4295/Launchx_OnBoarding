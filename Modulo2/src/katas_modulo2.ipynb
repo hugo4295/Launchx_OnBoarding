{
 "cells": [
  {
   "cell_type": "code",
   "execution_count": null,
   "metadata": {},
   "outputs": [],
   "source": []
  },
  {
   "cell_type": "markdown",
   "metadata": {},
   "source": [
    "# Crear un entorno virtual\n",
    "python3 -m venv env\n",
    "\n",
    "# Activar entorno virtual\n",
    "# windows\n",
    ".\\env\\Scripts\\activate  \n",
    "\n",
    "# Instalar una biblioteca\n",
    "pip freeze\n",
    "pip install python-dateutil\n",
    "pip freeze\n",
    "\n",
    "# Desactivar un entorno virtual\n",
    "deactivate"
   ]
  }
 ],
 "metadata": {
  "language_info": {
   "name": "python"
  },
  "orig_nbformat": 4
 },
 "nbformat": 4,
 "nbformat_minor": 2
}
