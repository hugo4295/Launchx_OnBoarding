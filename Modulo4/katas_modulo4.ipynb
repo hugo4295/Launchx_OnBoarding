{
 "cells": [
  {
   "cell_type": "markdown",
   "metadata": {},
   "source": [
    "# Ejercicio 1: Transformar cadenas"
   ]
  },
  {
   "cell_type": "code",
   "execution_count": 22,
   "metadata": {},
   "outputs": [
    {
     "name": "stdout",
     "output_type": "stream",
     "text": [
      "['Interesting facts about the Moon', \"The Moon is Earth's only satellite\", 'There are several interesting facts about the Moon and how it affects life here on Earth', 'On average, the Moon moves 4cm away from the Earth every year', 'This yearly drift is not significant enough to cause immediate effects on Earth', 'The highest daylight temperature of the Moon is 127 C.']\n",
      "\n",
      "\n",
      "Interesting facts about the Moon\n",
      "\n",
      "\n",
      "The Moon is Earth's only satellite\n",
      "\n",
      "\n",
      "There are several interesting facts about the Moon and how it affects life here on Earth\n",
      "\n",
      "\n",
      "On average, the Moon moves 4cm away from the Earth every year\n",
      "\n",
      "\n",
      "This yearly drift is not significant enough to cause immediate effects on Earth\n",
      "\n",
      "\n",
      "The highest daylight temperature of the Moon is 127 C.\n",
      "\n",
      "\n",
      "average\n",
      "temperature\n",
      "On average, the Moon moves 4cm away from the Earth every year\n",
      "The highest daylight temperature of the Moon is 127 Celsius.\n"
     ]
    }
   ],
   "source": [
    "text = \"\"\"Interesting facts about the Moon. The Moon is Earth's only satellite. There are several interesting facts about the Moon and how it affects life here on Earth. On average, the Moon moves 4cm away from the Earth every year. This yearly drift is not significant enough to cause immediate effects on Earth. The highest daylight temperature of the Moon is 127 C.\"\"\"\n",
    "#divide el texto en cada oración para trabajar con su contenido:\n",
    "separado = text.split('. ')\n",
    "#en arreglo\n",
    "print(separado)\n",
    "print('\\n')\n",
    "\n",
    "#salida separada\n",
    "for elemento in separado:\n",
    "    print(elemento)\n",
    "    print('\\n')\n",
    "\n",
    "#claves\n",
    "palabras = [\"average\",\"temperature\",\"distance\"]\n",
    "\n",
    "#recorrer la separacion de parrafos\n",
    "for parrafo in separado:\n",
    "    for clave in palabras:\n",
    "        if clave in parrafo:\n",
    "            print(clave)\n",
    "\n",
    "#Ciclo para cambiar C a Celsius\n",
    "for parrafo in separado:\n",
    "    for clave in palabras:\n",
    "        if clave in parrafo:\n",
    "            cambio = parrafo.replace('C','Celsius')\n",
    "            print(cambio)\n"
   ]
  },
  {
   "cell_type": "markdown",
   "metadata": {},
   "source": [
    "# Ejercicio 2: Formateando Cadenas"
   ]
  },
  {
   "cell_type": "code",
   "execution_count": 13,
   "metadata": {},
   "outputs": [
    {
     "name": "stdout",
     "output_type": "stream",
     "text": [
      "-------------------------------------------------------------------------------- \n",
      "Nombre del planeta: Tierra\n",
      "la gravedad con respecto a la Luna es de  1.62 metros\n",
      " Gravedad Entre Tierra Y La Luna \n",
      "\n",
      "-------------------------------------------------------------------------------- \n",
      "Nombre del planeta: Tierra\n",
      "la gravedad con respecto a la Luna es de  1.62 metros \n",
      " Gravedad Entre Tierra Y La Luna \n",
      "\n",
      "-------------------------------------------------------------------------------- \n",
      "Nombre del planeta: Tierra\n",
      "la gravedad con respecto a la Luna es de  1.62 metros \n",
      "-------------------------------------------------------------------------------- \n",
      "Nombre del planeta: Marte \n",
      "la gravedad con respecto a la Ganímedes es de  1.43 metros\n"
     ]
    }
   ],
   "source": [
    "# Datos con los que vas a trabajar\n",
    "nombre = \"Luna\"\n",
    "gravedad = 0.00162 # in kms\n",
    "planeta = \"Tierra\"\n",
    "\n",
    "# Titulo\n",
    "titulo=f'Gravedad entre {planeta} y la {nombre}'\n",
    "\n",
    "# Plantilla\n",
    "plantilla = f\"\"\"{'-'*80} \n",
    "Nombre del planeta: {planeta}\n",
    "la gravedad con respecto a la {nombre} es de {(gravedad * 1000): .2f} metros\"\"\"\n",
    "\n",
    "#vista Plantilla\n",
    "print(plantilla)\n",
    "\n",
    "#union de cadenas\n",
    "plantillaCompleta = f\"\"\" {titulo.title()} \\n\n",
    "{plantilla} \"\"\"\n",
    "\n",
    "#vista union\n",
    "print(plantillaCompleta)\n",
    "\n",
    "#Nuevos datos\n",
    "planeta = 'Marte '\n",
    "gravedad  = 0.00143\n",
    "nombre = 'Ganímedes'\n",
    "\n",
    "# Comprueba la plantilla\n",
    "print(plantillaCompleta)\n",
    "\n",
    "# Nueva Plantilla\n",
    "plantilla = f\"\"\"{'-'*80} \n",
    "Nombre del planeta: {planeta}\n",
    "la gravedad con respecto a la {nombre} es de {(gravedad * 1000): .2f} metros\"\"\"\n",
    "\n",
    "#vista nueva Plantilla\n",
    "print(plantilla.format(nombre=nombre, gravedad=gravedad, planeta=planeta))\n"
   ]
  }
 ],
 "metadata": {
  "interpreter": {
   "hash": "800bf5b2edb0341ea6ee5dfceca65bc51ad4e2b9322b5ca4c5ba813b6df09c0f"
  },
  "kernelspec": {
   "display_name": "Python 3.10.2 64-bit",
   "language": "python",
   "name": "python3"
  },
  "language_info": {
   "codemirror_mode": {
    "name": "ipython",
    "version": 3
   },
   "file_extension": ".py",
   "mimetype": "text/x-python",
   "name": "python",
   "nbconvert_exporter": "python",
   "pygments_lexer": "ipython3",
   "version": "3.10.2"
  },
  "orig_nbformat": 4
 },
 "nbformat": 4,
 "nbformat_minor": 2
}
