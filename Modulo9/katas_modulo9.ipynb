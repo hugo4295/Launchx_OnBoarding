{
 "cells": [
  {
   "cell_type": "markdown",
   "metadata": {},
   "source": [
    "# Ejercicio 1"
   ]
  },
  {
   "cell_type": "code",
   "execution_count": 11,
   "metadata": {},
   "outputs": [
    {
     "name": "stdout",
     "output_type": "stream",
     "text": [
      "                     Informe \n",
      "    --------------------------------------------------------------------------------\n",
      "    total de combustible: 90.0\n",
      "    combustible tanque1: 70\n",
      "    combustible tanque2: 100\n",
      "    combustible tanque3: 100\n",
      "    --------------------------------------------------------------------------------\n",
      "Promedio:  70.0\n",
      "                     Informe \n",
      "    --------------------------------------------------------------------------------\n",
      "    total de combustible: 90.0\n",
      "    combustible tanque1: 70\n",
      "    combustible tanque2: 100\n",
      "    combustible tanque3: 100\n",
      "    --------------------------------------------------------------------------------\n"
     ]
    }
   ],
   "source": [
    "# Función para leer 3 tanques de combustible y muestre el promedio\n",
    "def totaltanques(tanque1, tanque2, tanque3):\n",
    "    informacion = f\"\"\"{' '*20} Informe \n",
    "    {'-'*80}\n",
    "    total de combustible: {(tanque1 + tanque2 + tanque3)/3}\n",
    "    combustible tanque1: {tanque1}\n",
    "    combustible tanque2: {tanque2}\n",
    "    combustible tanque3: {tanque3}\n",
    "    {'-'*80}\"\"\"\n",
    "    return informacion\n",
    "\n",
    "# Llamamos a la función que genera el reporte print(funcion(tanque1, tanque2, tanque3))\n",
    "print(totaltanques(70, 100, 100))\n",
    "\n",
    "# Función promedio \n",
    "def promedio(*args):\n",
    "    suma = sum(args)\n",
    "    return (suma/len(args))\n",
    "    \n",
    "\n",
    "#llamar funcion promedio\n",
    "print(\"Promedio: \",promedio(50,84,76))\n",
    "\n",
    "# Actualiza la función\n",
    "def totaltanques(tanque1, tanque2, tanque3):\n",
    "    informacion = f\"\"\"{' '*20} Informe \n",
    "    {'-'*80}\n",
    "    total de combustible: {promedio(tanque1, tanque2, tanque3)}\n",
    "    combustible tanque1: {tanque1}\n",
    "    combustible tanque2: {tanque2}\n",
    "    combustible tanque3: {tanque3}\n",
    "    {'-'*80}\"\"\"\n",
    "    return informacion\n",
    "\n",
    "# llamar nuevamente la funcion\n",
    "print(totaltanques(70, 100, 100))"
   ]
  },
  {
   "cell_type": "markdown",
   "metadata": {},
   "source": [
    "# Ejercicio 2"
   ]
  },
  {
   "cell_type": "code",
   "execution_count": 24,
   "metadata": {},
   "outputs": [
    {
     "name": "stdout",
     "output_type": "stream",
     "text": [
      "                     Informe mision\n",
      "     --------------------------------------------------------------------------------\n",
      "     destino de la mision: Marte\n",
      "     total de tiempo de la mision: 68\n",
      "     total de gasolina: 170\n",
      "    --------------------------------------------------------------------------------\n",
      "                     Informe mision modificado\n",
      "     --------------------------------------------------------------------------------\n",
      "     destino de la mision: Marte\n",
      "     total de tiempo de la mision: 112\n",
      "     total de gasolina: 180\n",
      "    --------------------------------------------------------------------------------\n",
      "                     Informe mision modificado\n",
      "     --------------------------------------------------------------------------------\n",
      "     destino de la mision: Marte\n",
      "     total de tiempo de la mision: 112\n",
      "     total de gasolina: 140\n",
      "     tanque externo: 40\n",
      "     tanque interno: 100\n",
      "    --------------------------------------------------------------------------------\n"
     ]
    }
   ],
   "source": [
    "# Función con un informe preciso de la misión. Considera hora de prelanzamiento, tiempo de vuelo, destino, tanque externo y tanque interno\n",
    "def informePreciso(prelanza, tiempovuelo, destino, tanqueexterno, tanqueinterno):\n",
    "    informe=f\"\"\"{' '*20} Informe mision\n",
    "     {'-'*80}\n",
    "     destino de la mision: {destino}\n",
    "     total de tiempo de la mision: {prelanza+tiempovuelo}\n",
    "     total de gasolina: {tanqueexterno+tanqueinterno}\n",
    "    {'-'*80}\"\"\"\n",
    "    return informe\n",
    "\n",
    "# probamos la funcion\n",
    "print(informePreciso(34,34,\"Marte\",70,100))\n",
    "\n",
    "# Escribe tu nueva función de reporte considerando lo anterior\n",
    "def informePreciso(destino, *minutos, **gasolina):\n",
    "    informe=f\"\"\"{' '*20} Informe mision modificado\n",
    "     {'-'*80}\n",
    "     destino de la mision: {destino}\n",
    "     total de tiempo de la mision: {sum(minutos)}\n",
    "     total de gasolina: {sum(gasolina.values())}\n",
    "    {'-'*80}\"\"\"\n",
    "    return informe\n",
    "\n",
    "# probamos la funcion\n",
    "print(informePreciso(\"Marte\",34,78,externo=80,interno=100))\n",
    "\n",
    "# Escribe tu nueva función con nombre de tanque y cantidad por tanqueinterno\n",
    "def informePreciso(destino, *minutos, **gasolina):\n",
    "    informe=f\"\"\"{' '*20} Informe mision modificado\n",
    "     {'-'*80}\n",
    "     destino de la mision: {destino}\n",
    "     total de tiempo de la mision: {sum(minutos)}\n",
    "     total de gasolina: {sum(gasolina.values())}\"\"\"\n",
    "    for tanque, cantidad in gasolina.items():\n",
    "        informe+=f\"\"\"\n",
    "     tanque {tanque}: {cantidad}\"\"\"\n",
    "\n",
    "    informe+=f\"\"\"\n",
    "    {'-'*80}\"\"\"\n",
    "    return informe\n",
    "\n",
    "# probamos la funcion\n",
    "print(informePreciso(\"Marte\",34,78,externo=40,interno=100))"
   ]
  }
 ],
 "metadata": {
  "interpreter": {
   "hash": "800bf5b2edb0341ea6ee5dfceca65bc51ad4e2b9322b5ca4c5ba813b6df09c0f"
  },
  "kernelspec": {
   "display_name": "Python 3.10.2 64-bit",
   "language": "python",
   "name": "python3"
  },
  "language_info": {
   "codemirror_mode": {
    "name": "ipython",
    "version": 3
   },
   "file_extension": ".py",
   "mimetype": "text/x-python",
   "name": "python",
   "nbconvert_exporter": "python",
   "pygments_lexer": "ipython3",
   "version": "3.10.2"
  },
  "orig_nbformat": 4
 },
 "nbformat": 4,
 "nbformat_minor": 2
}
