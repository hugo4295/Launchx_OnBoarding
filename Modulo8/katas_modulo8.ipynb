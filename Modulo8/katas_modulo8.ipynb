{
 "cells": [
  {
   "cell_type": "markdown",
   "metadata": {},
   "source": [
    "# Ejercicio 1"
   ]
  },
  {
   "cell_type": "code",
   "execution_count": 4,
   "metadata": {},
   "outputs": [
    {
     "name": "stdout",
     "output_type": "stream",
     "text": [
      "Nombre planeta Marte\n",
      "Numero de lunas  2\n",
      "Nombre planeta:  Marte  Circunferencia polar:  6752\n"
     ]
    }
   ],
   "source": [
    "# Crea un diccionario llamado planet con los datos propuestos\n",
    "planeta={'nombre':'Marte','lunas':2}\n",
    "\n",
    "# Muestra el nombre del planeta y el número de lunas que tiene.\n",
    "print('Nombre planeta', planeta.get('nombre'))\n",
    "print('Numero de lunas ', planeta.get('lunas'))\n",
    "\n",
    "# Agrega la clave circunferencia con los datos proporcionados previamente\n",
    "planeta['circunferencia (km)']={\n",
    "    'polar': 6752,\n",
    "    'equatorial': 6792\n",
    "    }\n",
    "\n",
    "# Imprime el nombre del planeta con su circunferencia polar.\n",
    "print('Nombre planeta: ',planeta.get('nombre'),' Circunferencia polar: ',planeta.get('circunferencia (km)').get('polar'))"
   ]
  },
  {
   "cell_type": "markdown",
   "metadata": {},
   "source": [
    "# Ejercicio 2"
   ]
  },
  {
   "cell_type": "code",
   "execution_count": 9,
   "metadata": {},
   "outputs": [
    {
     "name": "stdout",
     "output_type": "stream",
     "text": [
      "Promedio de las lunas:  17.83\n"
     ]
    }
   ],
   "source": [
    "# Planets and moons\n",
    "\n",
    "planet_moons = {\n",
    "    'mercury': 0,\n",
    "    'venus': 0,\n",
    "    'earth': 1,\n",
    "    'mars': 2,\n",
    "    'jupiter': 79,\n",
    "    'saturn': 82,\n",
    "    'uranus': 27,\n",
    "    'neptune': 14,\n",
    "    'pluto': 5,\n",
    "    'haumea': 2,\n",
    "    'makemake': 1,\n",
    "    'eris': 1\n",
    "}\n",
    "\n",
    "# Añade el código para determinar el número de lunas.\n",
    "moons=planet_moons.values()\n",
    "\n",
    "#almacena el número de planetas en una variable denominada planets\n",
    "planets = len(planet_moons.keys())\n",
    "\n",
    "# Agrega el código para contar el número de lunas. \n",
    "totallunas=0\n",
    "for luna in moons:\n",
    "    totallunas += luna\n",
    "\n",
    "#resolvemos el promedio y mostramos resultados\n",
    "promedio = totallunas/planets\n",
    "print(f\"Promedio de las lunas: {promedio: .2f}\")"
   ]
  }
 ],
 "metadata": {
  "interpreter": {
   "hash": "800bf5b2edb0341ea6ee5dfceca65bc51ad4e2b9322b5ca4c5ba813b6df09c0f"
  },
  "kernelspec": {
   "display_name": "Python 3.10.2 64-bit",
   "language": "python",
   "name": "python3"
  },
  "language_info": {
   "codemirror_mode": {
    "name": "ipython",
    "version": 3
   },
   "file_extension": ".py",
   "mimetype": "text/x-python",
   "name": "python",
   "nbconvert_exporter": "python",
   "pygments_lexer": "ipython3",
   "version": "3.10.2"
  },
  "orig_nbformat": 4
 },
 "nbformat": 4,
 "nbformat_minor": 2
}
