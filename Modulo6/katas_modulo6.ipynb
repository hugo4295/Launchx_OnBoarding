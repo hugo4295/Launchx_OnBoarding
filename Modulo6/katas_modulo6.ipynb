{
 "cells": [
  {
   "cell_type": "markdown",
   "metadata": {},
   "source": [
    "# Ejercicio 1"
   ]
  },
  {
   "cell_type": "code",
   "execution_count": 6,
   "metadata": {},
   "outputs": [
    {
     "name": "stdout",
     "output_type": "stream",
     "text": [
      "tenemos #8 de planetas\n",
      "pluto\n"
     ]
    }
   ],
   "source": [
    "planetas = ['Mercurio', 'Venus', 'Tierra', 'Marte', 'Jupiter', 'Saturno', 'Urano', 'Neptuno']\n",
    "print (\"tenemos #\" + str(len(planetas)) + \" de planetas\")\n",
    "\n",
    "#agregar pluton\n",
    "planetas.append(\"pluto\")\n",
    "\n",
    "# mostrar con el nuevo\n",
    "print(planetas[-1])"
   ]
  },
  {
   "cell_type": "markdown",
   "metadata": {},
   "source": [
    "# Ejercicio 2"
   ]
  },
  {
   "cell_type": "code",
   "execution_count": 10,
   "metadata": {},
   "outputs": [
    {
     "name": "stdout",
     "output_type": "stream",
     "text": [
      "planetas mas lejanos al sol ['Mercurio', 'Venus']\n",
      "Planetas mas lejos del sol  ['Marte', 'Jupiter', 'Saturno', 'Neptuno']\n"
     ]
    }
   ],
   "source": [
    "# Lista de planetas\n",
    "planetas = ['Mercurio', 'Venus', 'Tierra', 'Marte', 'Jupiter', 'Saturno', 'Neptuno']\n",
    "\n",
    "#Solicitar nombre de un planeta\n",
    "planeta = input(\"Ingrese el nombre de un planeta?\")\n",
    "\n",
    "# Busca el planeta en la lista\n",
    "ubicacion = planetas.index(planeta)\n",
    "\n",
    "# Muestra los planetas más cercanos al sol\n",
    "print('planetas mas lejanos al sol', planetas[0:ubicacion])\n",
    "\n",
    "# Muestra los planetas más lejanos al sol\n",
    "print('Planetas mas lejos del sol ', planetas[ubicacion+1:])\n"
   ]
  }
 ],
 "metadata": {
  "interpreter": {
   "hash": "800bf5b2edb0341ea6ee5dfceca65bc51ad4e2b9322b5ca4c5ba813b6df09c0f"
  },
  "kernelspec": {
   "display_name": "Python 3.10.2 64-bit",
   "language": "python",
   "name": "python3"
  },
  "language_info": {
   "codemirror_mode": {
    "name": "ipython",
    "version": 3
   },
   "file_extension": ".py",
   "mimetype": "text/x-python",
   "name": "python",
   "nbconvert_exporter": "python",
   "pygments_lexer": "ipython3",
   "version": "3.10.2"
  },
  "orig_nbformat": 4
 },
 "nbformat": 4,
 "nbformat_minor": 2
}
