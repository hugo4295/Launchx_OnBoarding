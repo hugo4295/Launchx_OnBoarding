{
 "cells": [
  {
   "cell_type": "markdown",
   "metadata": {},
   "source": [
    "# Ejercicio 1"
   ]
  },
  {
   "cell_type": "code",
   "execution_count": 3,
   "metadata": {},
   "outputs": [
    {
     "name": "stdout",
     "output_type": "stream",
     "text": [
      "628949330\n",
      "390577534\n"
     ]
    }
   ],
   "source": [
    "# Crear variables para almacenar las dos distancias\n",
    "tierra=149597870\n",
    "jupiter=778547200\n",
    "# Calcular la distancia entre planetas\n",
    "distancia = tierra - jupiter\n",
    "millas = distancia * 0.621\n",
    "\n",
    "# Resultados\n",
    "print(abs(distancia))\n",
    "print(abs(round(millas)))"
   ]
  },
  {
   "cell_type": "markdown",
   "metadata": {},
   "source": [
    "# Ejercicio 2"
   ]
  },
  {
   "cell_type": "code",
   "execution_count": 8,
   "metadata": {},
   "outputs": [
    {
     "name": "stdout",
     "output_type": "stream",
     "text": [
      "Planeta         Distancia sol\n",
      "-------------------------------------------------------------------------------- \n",
      "Mercurio        57900000\n",
      "Venus           108200000\n",
      "Tierra          149600000\n",
      "Marte           227900000\n",
      "Júpiter         778600000\n",
      "Saturno         1433500000\n",
      "Urano           2872500000\n",
      "Neptuno         4495100000\n",
      "--------------------------------------------------------------------------------\n",
      "1234567\n",
      "67890\n"
     ]
    }
   ],
   "source": [
    "# Plantilla\n",
    "plantilla = f\"\"\"Planeta         Distancia sol\n",
    "{'-'*80} \n",
    "Mercurio        57900000\n",
    "Venus           108200000\n",
    "Tierra          149600000\n",
    "Marte           227900000\n",
    "Júpiter         778600000\n",
    "Saturno         1433500000\n",
    "Urano           2872500000\n",
    "Neptuno         4495100000\n",
    "{'-'*80}\"\"\"\n",
    "print(plantilla)\n",
    "\n",
    "#ingreso de datos\n",
    "dist1 = input(\"Ingrese la primer distancia?\")\n",
    "dist2 = input(\"Ingrese la segunda distancia?\")\n",
    "\n",
    "#confirmar los datos ingresados\n",
    "print(dist1)\n",
    "print(dist2)\n",
    "\n",
    "# Convierte las cadenas de ambos planetas a números enteros\n",
    "ndist1 = int(dist1)\n",
    "ndist2 = int(dist2)\n",
    "\n",
    "# Realizar el cálculo y determinar el valor absoluto\n",
    "distancia = ndist1 - ndist2\n",
    "millas = distancia * 0.621\n",
    "\n",
    "# Resultados\n",
    "print(abs(distancia))\n",
    "print(abs(round(millas)))\n"
   ]
  }
 ],
 "metadata": {
  "interpreter": {
   "hash": "800bf5b2edb0341ea6ee5dfceca65bc51ad4e2b9322b5ca4c5ba813b6df09c0f"
  },
  "kernelspec": {
   "display_name": "Python 3.10.2 64-bit",
   "language": "python",
   "name": "python3"
  },
  "language_info": {
   "codemirror_mode": {
    "name": "ipython",
    "version": 3
   },
   "file_extension": ".py",
   "mimetype": "text/x-python",
   "name": "python",
   "nbconvert_exporter": "python",
   "pygments_lexer": "ipython3",
   "version": "3.10.2"
  },
  "orig_nbformat": 4
 },
 "nbformat": 4,
 "nbformat_minor": 2
}
